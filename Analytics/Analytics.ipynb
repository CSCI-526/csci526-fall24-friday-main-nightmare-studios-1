{
 "cells": [
  {
   "cell_type": "markdown",
   "id": "bb60ad2a",
   "metadata": {},
   "source": [
    "Analytics"
   ]
  },
  {
   "cell_type": "code",
   "execution_count": 1,
   "id": "8d1a0285",
   "metadata": {},
   "outputs": [],
   "source": [
    "import pandas as pd\n",
    "import matplotlib.pyplot as plt\n",
    "import pandas as pd\n"
   ]
  },
  {
   "cell_type": "code",
   "execution_count": 2,
   "id": "813ce866",
   "metadata": {},
   "outputs": [],
   "source": [
    "url = \"https://contortion-6c4d5-default-rtdb.firebaseio.com/rotationAnalytics.json\""
   ]
  },
  {
   "cell_type": "code",
   "execution_count": 3,
   "id": "a1022af0",
   "metadata": {},
   "outputs": [
    {
     "ename": "NameError",
     "evalue": "name 'requests' is not defined",
     "output_type": "error",
     "traceback": [
      "\u001b[1;31m---------------------------------------------------------------------------\u001b[0m",
      "\u001b[1;31mNameError\u001b[0m                                 Traceback (most recent call last)",
      "Cell \u001b[1;32mIn[3], line 2\u001b[0m\n\u001b[0;32m      1\u001b[0m \u001b[38;5;28;01mtry\u001b[39;00m:\n\u001b[1;32m----> 2\u001b[0m     response \u001b[38;5;241m=\u001b[39m requests\u001b[38;5;241m.\u001b[39mget(url)\n\u001b[0;32m      3\u001b[0m     response\u001b[38;5;241m.\u001b[39mraise_for_status()\n",
      "\u001b[1;31mNameError\u001b[0m: name 'requests' is not defined",
      "\nDuring handling of the above exception, another exception occurred:\n",
      "\u001b[1;31mNameError\u001b[0m                                 Traceback (most recent call last)",
      "Cell \u001b[1;32mIn[3], line 17\u001b[0m\n\u001b[0;32m     14\u001b[0m     \u001b[38;5;28;01mif\u001b[39;00m df \u001b[38;5;129;01mis\u001b[39;00m \u001b[38;5;129;01mnot\u001b[39;00m \u001b[38;5;28;01mNone\u001b[39;00m:\n\u001b[0;32m     15\u001b[0m         \u001b[38;5;28mprint\u001b[39m(df\u001b[38;5;241m.\u001b[39mhead())\n\u001b[1;32m---> 17\u001b[0m \u001b[38;5;28;01mexcept\u001b[39;00m requests\u001b[38;5;241m.\u001b[39mexceptions\u001b[38;5;241m.\u001b[39mRequestException \u001b[38;5;28;01mas\u001b[39;00m e:\n\u001b[0;32m     18\u001b[0m     \u001b[38;5;28mprint\u001b[39m(\u001b[38;5;124mf\u001b[39m\u001b[38;5;124m\"\u001b[39m\u001b[38;5;124mError fetching data: \u001b[39m\u001b[38;5;132;01m{\u001b[39;00me\u001b[38;5;132;01m}\u001b[39;00m\u001b[38;5;124m\"\u001b[39m)\n",
      "\u001b[1;31mNameError\u001b[0m: name 'requests' is not defined"
     ]
    }
   ],
   "source": [
    "try:\n",
    "    response = requests.get(url)\n",
    "    response.raise_for_status()\n",
    "    data = response.json()\n",
    "    \n",
    "    if isinstance(data, list):\n",
    "        df = pd.DataFrame(data)\n",
    "    elif isinstance(data, dict):\n",
    "        df = pd.DataFrame.from_dict(data, orient='index')\n",
    "    else:\n",
    "        print(\"Unexpected data format:\", type(data))\n",
    "        df = None\n",
    "        \n",
    "    if df is not None:\n",
    "        print(df.head())\n",
    "\n",
    "except requests.exceptions.RequestException as e:\n",
    "    print(f\"Error fetching data: {e}\")\n"
   ]
  },
  {
   "cell_type": "code",
   "execution_count": null,
   "id": "6a3ecb79",
   "metadata": {},
   "outputs": [],
   "source": [
    "df = df[~df['level'].str.contains('Tutorial', case=False, na=False)]\n",
    "print(df.head())"
   ]
  },
  {
   "cell_type": "code",
   "execution_count": null,
   "id": "5101644e",
   "metadata": {},
   "outputs": [],
   "source": [
    "average_rotations_per_level = df.groupby('level')['rotations'].mean()\n",
    "print(average_rotations_per_level)"
   ]
  },
  {
   "cell_type": "code",
   "execution_count": null,
   "id": "14bf459d",
   "metadata": {},
   "outputs": [],
   "source": [
    "\n",
    "plt.figure(figsize=(10, 6))\n",
    "average_rotations_per_level.plot(kind='bar', color='lightgreen')\n",
    "plt.title('Average Number of Flips per Level')\n",
    "plt.xlabel('Level')\n",
    "plt.ylabel('Average Number of Flips')\n",
    "plt.xticks(rotation=45)\n",
    "plt.show()\n"
   ]
  },
  {
   "cell_type": "code",
   "execution_count": null,
   "id": "13a1b162",
   "metadata": {},
   "outputs": [],
   "source": [
    "df['causeOfDeath'] = df['causeOfDeath'].replace('Unknown', 'Level Cleared')\n",
    "death_data = df.dropna(subset=['causeOfDeath'])\n",
    "\n",
    "df_deaths = death_data[death_data['causeOfDeath'] != 'Level Cleared']\n",
    "\n",
    "deaths_per_level = df_deaths.groupby('level').size()\n",
    "\n",
    "plt.figure(figsize=(10, 6))\n",
    "deaths_per_level.plot(kind='bar', color='skyblue')\n",
    "plt.title('Number of Deaths per Level')\n",
    "plt.xlabel('Level')\n",
    "plt.ylabel('Number of Deaths')\n",
    "plt.xticks(rotation=45)\n",
    "plt.grid(axis='y')\n",
    "plt.show()\n"
   ]
  },
  {
   "cell_type": "code",
   "execution_count": null,
   "id": "1cf5caad",
   "metadata": {},
   "outputs": [],
   "source": [
    "df['date'] = pd.to_datetime(df['date'])\n",
    "\n",
    "df = df.sort_values(by=['level', 'date'])\n",
    "\n",
    "df['time_alive'] = df.groupby('level')['date'].diff().dt.total_seconds()\n",
    "\n",
    "df = df.dropna(subset=['time_alive'])\n",
    "\n",
    "average_time_alive_per_level = df.groupby('level')['time_alive'].mean()\n",
    "\n",
    "plt.figure(figsize=(10, 6))\n",
    "average_time_alive_per_level.plot(kind='line', marker='o', color='blue')\n",
    "plt.title('Average Time Alive per Level')\n",
    "plt.xlabel('Level')\n",
    "plt.ylabel('Average Time Alive (seconds)')\n",
    "plt.xticks(rotation=45)\n",
    "plt.grid()\n",
    "plt.show()\n"
   ]
  },
  {
   "cell_type": "code",
   "execution_count": null,
   "id": "a1057e9c",
   "metadata": {},
   "outputs": [],
   "source": [
    "# df = df.dropna(subset=['causeOfDeath'])\n",
    "\n",
    "df['causeOfDeath'] = df['causeOfDeath'].replace('Unknown', 'Level Cleared')\n",
    "\n",
    "cause_counts = df['causeOfDeath'].value_counts()\n",
    "\n",
    "cause_percentage = (cause_counts / cause_counts.sum()) * 100\n",
    "\n",
    "death_summary = pd.DataFrame({\n",
    "    'Deaths': cause_counts,\n",
    "    'Percentage': cause_percentage.round(1)\n",
    "})\n",
    "\n",
    "# Display the table\n",
    "print(death_summary)\n",
    "\n",
    "# Plot the pie chart\n",
    "plt.figure(figsize=(8, 8))\n",
    "cause_counts.plot(kind='pie', autopct='%1.1f%%', startangle=90, colors=plt.cm.tab20.colors)\n",
    "plt.title('Cause of Death')\n",
    "plt.ylabel('') \n",
    "plt.show()\n"
   ]
  },
  {
   "cell_type": "code",
   "execution_count": null,
   "id": "10bd1381",
   "metadata": {},
   "outputs": [],
   "source": [
    "# Implemented Recently so no available data:\n",
    "# Toggle Analytics\n",
    "\n",
    "# df_filtered = df[df['gravityToggleUsed'] != 'Not Exist']\n",
    "\n",
    "# gravity_toggle_counts = df_filtered.groupby(['level', 'gravityToggleUsed']).size().unstack(fill_value=0)\n",
    "\n",
    "# gravity_toggle_counts.plot(kind='bar', stacked=True, figsize=(10, 6), color=['#32CD32', '#1E90FF'])\n",
    "# plt.title('Gravity Toggle Usage per Level (Excluding \"Not Exist\")')\n",
    "# plt.xlabel('Level')\n",
    "# plt.ylabel('Number of Occurrences')\n",
    "# plt.xticks(rotation=45)\n",
    "# plt.legend(title='Gravity Toggle Status', labels=['Used', 'Not Used'])\n",
    "# plt.grid(axis='y')\n",
    "# plt.show()"
   ]
  },
  {
   "cell_type": "code",
   "execution_count": null,
   "id": "d3a01eb4",
   "metadata": {},
   "outputs": [],
   "source": []
  }
 ],
 "metadata": {
  "kernelspec": {
   "display_name": "Python 3 (ipykernel)",
   "language": "python",
   "name": "python3"
  },
  "language_info": {
   "codemirror_mode": {
    "name": "ipython",
    "version": 3
   },
   "file_extension": ".py",
   "mimetype": "text/x-python",
   "name": "python",
   "nbconvert_exporter": "python",
   "pygments_lexer": "ipython3",
   "version": "3.11.5"
  }
 },
 "nbformat": 4,
 "nbformat_minor": 5
}
